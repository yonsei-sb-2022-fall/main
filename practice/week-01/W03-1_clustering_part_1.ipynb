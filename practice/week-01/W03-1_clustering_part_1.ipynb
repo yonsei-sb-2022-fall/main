{
 "cells": [
  {
   "cell_type": "markdown",
   "metadata": {},
   "source": [
    "# BIG DATA ANALYTICS: Clustering Basic\n",
    "- 직접 간단한 클러스터링 알고리즘을 만들어보도록 하겠습니다.\n",
    "---"
   ]
  },
  {
   "cell_type": "markdown",
   "metadata": {},
   "source": [
    "# K-means Clustering 직접구현"
   ]
  },
  {
   "cell_type": "code",
   "execution_count": 1,
   "metadata": {},
   "outputs": [],
   "source": [
    "import numpy as np\n",
    "import matplotlib.pyplot as plt\n",
    "import pprint"
   ]
  },
  {
   "cell_type": "markdown",
   "metadata": {},
   "source": [
    "## 1. 데이터 셋 준비"
   ]
  },
  {
   "cell_type": "code",
   "execution_count": 2,
   "metadata": {},
   "outputs": [],
   "source": [
    "COLORS = ['b', 'g', 'r', 'c', 'm', 'y', 'k', 'w']\n",
    "# K 값\n",
    "K=2\n",
    "\n",
    "# 데이터셋\n",
    "dataset = np.array([\n",
    "    [1.0,1.0],\n",
    "    [1.5,2.0],\n",
    "    [3.0,4.0],\n",
    "    [5.0,7.0],\n",
    "    [3.5,5.0],\n",
    "    [4.5,5.0],\n",
    "    [3.5,4.5],\n",
    "])\n",
    "\n",
    "# 임의의 점\n",
    "# centroids = np.random.randint(0,10,size=(K,dataset.shape[1]))\n",
    "centroids = np.array([[0,0],[10,10]])\n",
    "\n",
    "# 데이터가 속한 그룹\n",
    "group = [dataset]"
   ]
  },
  {
   "cell_type": "code",
   "execution_count": 3,
   "metadata": {},
   "outputs": [
    {
     "data": {
      "text/plain": [
       "array([[1. , 1. ],\n",
       "       [1.5, 2. ],\n",
       "       [3. , 4. ],\n",
       "       [5. , 7. ],\n",
       "       [3.5, 5. ],\n",
       "       [4.5, 5. ],\n",
       "       [3.5, 4.5]])"
      ]
     },
     "execution_count": 3,
     "metadata": {},
     "output_type": "execute_result"
    }
   ],
   "source": [
    "dataset"
   ]
  },
  {
   "cell_type": "code",
   "execution_count": 4,
   "metadata": {},
   "outputs": [
    {
     "data": {
      "text/plain": [
       "[array([[1. , 1. ],\n",
       "        [1.5, 2. ],\n",
       "        [3. , 4. ],\n",
       "        [5. , 7. ],\n",
       "        [3.5, 5. ],\n",
       "        [4.5, 5. ],\n",
       "        [3.5, 4.5]])]"
      ]
     },
     "execution_count": 4,
     "metadata": {},
     "output_type": "execute_result"
    }
   ],
   "source": [
    "group"
   ]
  },
  {
   "cell_type": "code",
   "execution_count": 5,
   "metadata": {},
   "outputs": [
    {
     "name": "stdout",
     "output_type": "stream",
     "text": [
      "[[1.  1. ]\n",
      " [1.5 2. ]\n",
      " [3.  4. ]\n",
      " [5.  7. ]\n",
      " [3.5 5. ]\n",
      " [4.5 5. ]\n",
      " [3.5 4.5]]\n"
     ]
    }
   ],
   "source": [
    "for i,data in enumerate(group):\n",
    "    print(data)"
   ]
  },
  {
   "cell_type": "markdown",
   "metadata": {},
   "source": [
    "## 2. 시각화 함수 구현"
   ]
  },
  {
   "cell_type": "code",
   "execution_count": 6,
   "metadata": {},
   "outputs": [],
   "source": [
    "def show_plot(group, centroids):\n",
    "    #각각의 그룹 별로 다른 색으로 표시\n",
    "    for i, data in enumerate(group):\n",
    "        plt.scatter(data[:,0], data[:,1], c=COLORS[i],alpha=0.5)\n",
    "    # 센트로이드 표시\n",
    "#     plt.scatter(centroids[:,0],centroids[:,1],  c=\"red\",alpha=0.5)\n",
    "    plt.ylim(-1, 12)\n",
    "    plt.xlim(-1, 12)\n",
    "    plt.show()"
   ]
  },
  {
   "cell_type": "code",
   "execution_count": 7,
   "metadata": {
    "scrolled": true
   },
   "outputs": [
    {
     "data": {
      "image/png": "[encoded data removed]",
      "text/plain": [
       "<Figure size 432x288 with 1 Axes>"
      ]
     },
     "metadata": {
      "needs_background": "light"
     },
     "output_type": "display_data"
    }
   ],
   "source": [
    "show_plot(group,centroids)"
   ]
  },
  {
   "cell_type": "markdown",
   "metadata": {},
   "source": [
    "## 3. 거리함수 구현"
   ]
  },
  {
   "cell_type": "code",
   "execution_count": 8,
   "metadata": {},
   "outputs": [],
   "source": [
    "def euclidean_dist(x, y):\n",
    "    return np.sqrt(np.sum(np.power(x-y,2)))"
   ]
  },
  {
   "cell_type": "markdown",
   "metadata": {},
   "source": [
    "## 4. Centroid와의 거리계산"
   ]
  },
  {
   "cell_type": "code",
   "execution_count": 9,
   "metadata": {},
   "outputs": [],
   "source": [
    "#각각의 점과 각각의 센트로이드와의 거리 계산\n",
    "distances = {}\n",
    "for i, centroid in enumerate(centroids) :\n",
    "    for j, point in enumerate(dataset):\n",
    "        dis = euclidean_dist(centroid,point)\n",
    "        if j in distances:\n",
    "            distances[j].append(dis)\n",
    "        else:\n",
    "            distances[j]=[dis]"
   ]
  },
  {
   "cell_type": "code",
   "execution_count": 10,
   "metadata": {},
   "outputs": [
    {
     "name": "stdout",
     "output_type": "stream",
     "text": [
      "{0: [1.4142135623730951, 12.727922061357855],\n",
      " 1: [2.5, 11.672617529928752],\n",
      " 2: [5.0, 9.219544457292887],\n",
      " 3: [8.602325267042627, 5.830951894845301],\n",
      " 4: [6.103277807866851, 8.200609733428363],\n",
      " 5: [6.726812023536855, 7.433034373659253],\n",
      " 6: [5.70087712549569, 8.514693182963201]}\n"
     ]
    }
   ],
   "source": [
    "pprint.pprint(distances)"
   ]
  },
  {
   "cell_type": "markdown",
   "metadata": {},
   "source": [
    "## 5. 가까운 센트로이드의 그룹으로 분류"
   ]
  },
  {
   "cell_type": "code",
   "execution_count": 11,
   "metadata": {},
   "outputs": [],
   "source": [
    "#가까운 거리의 센트로이드 그룹으로 분류\n",
    "cluster = {}\n",
    "for i in range(K):\n",
    "    cluster[i] = []\n",
    "for point, distance in distances.items():\n",
    "    close_cent = distance.index(min(distance))\n",
    "    cluster[close_cent].append(point)"
   ]
  },
  {
   "cell_type": "code",
   "execution_count": 12,
   "metadata": {},
   "outputs": [
    {
     "data": {
      "text/plain": [
       "{0: [0, 1, 2, 4, 5, 6], 1: [3]}"
      ]
     },
     "execution_count": 12,
     "metadata": {},
     "output_type": "execute_result"
    }
   ],
   "source": [
    "cluster"
   ]
  },
  {
   "cell_type": "markdown",
   "metadata": {},
   "source": [
    "## 6. 분류된 데이터 시각화"
   ]
  },
  {
   "cell_type": "code",
   "execution_count": 13,
   "metadata": {},
   "outputs": [
    {
     "data": {
      "image/png": "[encoded data removed]",
      "text/plain": [
       "<Figure size 432x288 with 1 Axes>"
      ]
     },
     "metadata": {
      "needs_background": "light"
     },
     "output_type": "display_data"
    }
   ],
   "source": [
    "#시각화\n",
    "group = []\n",
    "\n",
    "for cls in cluster:\n",
    "    group.append(dataset[cluster[cls]])\n",
    "show_plot(group,centroids)"
   ]
  },
  {
   "cell_type": "code",
   "execution_count": 14,
   "metadata": {},
   "outputs": [
    {
     "data": {
      "text/plain": [
       "{0: [0, 1, 2, 4, 5, 6], 1: [3]}"
      ]
     },
     "execution_count": 14,
     "metadata": {},
     "output_type": "execute_result"
    }
   ],
   "source": [
    "cluster"
   ]
  },
  {
   "cell_type": "code",
   "execution_count": 15,
   "metadata": {},
   "outputs": [
    {
     "data": {
      "text/plain": [
       "array([[1. , 1. ],\n",
       "       [1.5, 2. ],\n",
       "       [3. , 4. ],\n",
       "       [5. , 7. ],\n",
       "       [3.5, 5. ],\n",
       "       [4.5, 5. ],\n",
       "       [3.5, 4.5]])"
      ]
     },
     "execution_count": 15,
     "metadata": {},
     "output_type": "execute_result"
    }
   ],
   "source": [
    "dataset"
   ]
  },
  {
   "cell_type": "markdown",
   "metadata": {},
   "source": [
    "## 7. 센트로이드 업데이트"
   ]
  },
  {
   "cell_type": "code",
   "execution_count": 16,
   "metadata": {},
   "outputs": [
    {
     "name": "stdout",
     "output_type": "stream",
     "text": [
      "[[1.  1. ]\n",
      " [1.5 2. ]\n",
      " [3.  4. ]\n",
      " [3.5 5. ]\n",
      " [4.5 5. ]\n",
      " [3.5 4.5]]\n",
      "[[5. 7.]]\n"
     ]
    },
    {
     "data": {
      "image/png": "[encoded data removed]",
      "text/plain": [
       "<Figure size 432x288 with 1 Axes>"
      ]
     },
     "metadata": {
      "needs_background": "light"
     },
     "output_type": "display_data"
    }
   ],
   "source": [
    "# 센트로이드를 새롭게 업데이트된 그룹에 평균으로 재정의\n",
    "new_centroids = []\n",
    "for cls,points in cluster.items():\n",
    "    print(dataset[points])\n",
    "    new_x = np.mean(dataset[points,0])\n",
    "    new_y = np.mean(dataset[points,1])\n",
    "    new_centroids.append((new_x,new_y))\n",
    "\n",
    "centroids = np.array(new_centroids)\n",
    "\n",
    "show_plot(group,centroids)"
   ]
  },
  {
   "cell_type": "code",
   "execution_count": 17,
   "metadata": {},
   "outputs": [
    {
     "data": {
      "text/plain": [
       "array([[5., 7.]])"
      ]
     },
     "execution_count": 17,
     "metadata": {},
     "output_type": "execute_result"
    }
   ],
   "source": [
    "dataset[cluster[1]]"
   ]
  },
  {
   "cell_type": "markdown",
   "metadata": {},
   "source": [
    "## 8. 두번째 iteration"
   ]
  },
  {
   "cell_type": "code",
   "execution_count": 18,
   "metadata": {},
   "outputs": [],
   "source": [
    "# 두번째 iteration \n",
    "distances = {}\n",
    "for i, centroid in enumerate(centroids) :\n",
    "    for j, point in enumerate(dataset):\n",
    "        dis = euclidean_dist(centroid,point)\n",
    "        if j in distances:\n",
    "            distances[j].append(dis)\n",
    "        else:\n",
    "            distances[j]=[dis]\n",
    "            \n",
    "cluster = {}\n",
    "for i in range(K):\n",
    "    cluster[i] = []\n",
    "for point, distance in distances.items():\n",
    "    close_cent = distance.index(min(distance))\n",
    "    cluster[close_cent].append(point)"
   ]
  },
  {
   "cell_type": "code",
   "execution_count": 19,
   "metadata": {},
   "outputs": [
    {
     "data": {
      "image/png": "[encoded data removed]",
      "text/plain": [
       "<Figure size 432x288 with 1 Axes>"
      ]
     },
     "metadata": {
      "needs_background": "light"
     },
     "output_type": "display_data"
    }
   ],
   "source": [
    "group = []\n",
    "\n",
    "for cls in cluster:\n",
    "    group.append(dataset[cluster[cls]])\n",
    "show_plot(group,centroids)"
   ]
  },
  {
   "cell_type": "code",
   "execution_count": 20,
   "metadata": {},
   "outputs": [
    {
     "name": "stdout",
     "output_type": "stream",
     "text": [
      "[[1.  1. ]\n",
      " [1.5 2. ]\n",
      " [3.  4. ]\n",
      " [3.5 5. ]\n",
      " [3.5 4.5]]\n",
      "[[5.  7. ]\n",
      " [4.5 5. ]]\n"
     ]
    },
    {
     "data": {
      "image/png": "[encoded data removed]",
      "text/plain": [
       "<Figure size 432x288 with 1 Axes>"
      ]
     },
     "metadata": {
      "needs_background": "light"
     },
     "output_type": "display_data"
    }
   ],
   "source": [
    "# 센트로이드 재정의\n",
    "new_centroids = []\n",
    "for cls,points in cluster.items():\n",
    "    print(dataset[points])\n",
    "    new_x = np.mean(dataset[points,0])\n",
    "    new_y = np.mean(dataset[points,1])\n",
    "    new_centroids.append((new_x,new_y))\n",
    "\n",
    "centroids = np.array(new_centroids)\n",
    "\n",
    "show_plot(group,centroids)"
   ]
  },
  {
   "cell_type": "markdown",
   "metadata": {},
   "source": [
    "## 9. n번 반복"
   ]
  },
  {
   "cell_type": "code",
   "execution_count": 21,
   "metadata": {
    "scrolled": false
   },
   "outputs": [
    {
     "data": {
      "image/png": "[encoded data removed]",
      "text/plain": [
       "<Figure size 432x288 with 1 Axes>"
      ]
     },
     "metadata": {
      "needs_background": "light"
     },
     "output_type": "display_data"
    },
    {
     "data": {
      "image/png": "[encoded data removed]",
      "text/plain": [
       "<Figure size 432x288 with 1 Axes>"
      ]
     },
     "metadata": {
      "needs_background": "light"
     },
     "output_type": "display_data"
    },
    {
     "data": {
      "image/png": "[encoded data removed]",
      "text/plain": [
       "<Figure size 432x288 with 1 Axes>"
      ]
     },
     "metadata": {
      "needs_background": "light"
     },
     "output_type": "display_data"
    },
    {
     "data": {
      "image/png": "[encoded data removed]",
      "text/plain": [
       "<Figure size 432x288 with 1 Axes>"
      ]
     },
     "metadata": {
      "needs_background": "light"
     },
     "output_type": "display_data"
    },
    {
     "data": {
      "image/png": "[encoded data removed]",
      "text/plain": [
       "<Figure size 432x288 with 1 Axes>"
      ]
     },
     "metadata": {
      "needs_background": "light"
     },
     "output_type": "display_data"
    },
    {
     "data": {
      "image/png": "[encoded data removed]",
      "text/plain": [
       "<Figure size 432x288 with 1 Axes>"
      ]
     },
     "metadata": {
      "needs_background": "light"
     },
     "output_type": "display_data"
    },
    {
     "data": {
      "image/png": "[encoded data removed]",
      "text/plain": [
       "<Figure size 432x288 with 1 Axes>"
      ]
     },
     "metadata": {
      "needs_background": "light"
     },
     "output_type": "display_data"
    },
    {
     "data": {
      "image/png": "[encoded data removed]",
      "text/plain": [
       "<Figure size 432x288 with 1 Axes>"
      ]
     },
     "metadata": {
      "needs_background": "light"
     },
     "output_type": "display_data"
    },
    {
     "data": {
      "image/png": "[encoded data removed]",
      "text/plain": [
       "<Figure size 432x288 with 1 Axes>"
      ]
     },
     "metadata": {
      "needs_background": "light"
     },
     "output_type": "display_data"
    },
    {
     "data": {
      "image/png": "[encoded data removed]",
      "text/plain": [
       "<Figure size 432x288 with 1 Axes>"
      ]
     },
     "metadata": {
      "needs_background": "light"
     },
     "output_type": "display_data"
    },
    {
     "data": {
      "image/png": "[encoded data removed]",
      "text/plain": [
       "<Figure size 432x288 with 1 Axes>"
      ]
     },
     "metadata": {
      "needs_background": "light"
     },
     "output_type": "display_data"
    },
    {
     "data": {
      "image/png": "[encoded data removed]",
      "text/plain": [
       "<Figure size 432x288 with 1 Axes>"
      ]
     },
     "metadata": {
      "needs_background": "light"
     },
     "output_type": "display_data"
    },
    {
     "data": {
      "image/png": "[encoded data removed]",
      "text/plain": [
       "<Figure size 432x288 with 1 Axes>"
      ]
     },
     "metadata": {
      "needs_background": "light"
     },
     "output_type": "display_data"
    },
    {
     "data": {
      "image/png": "[encoded data removed]",
      "text/plain": [
       "<Figure size 432x288 with 1 Axes>"
      ]
     },
     "metadata": {
      "needs_background": "light"
     },
     "output_type": "display_data"
    },
    {
     "data": {
      "image/png": "[encoded data removed]",
      "text/plain": [
       "<Figure size 432x288 with 1 Axes>"
      ]
     },
     "metadata": {
      "needs_background": "light"
     },
     "output_type": "display_data"
    },
    {
     "data": {
      "image/png": "[encoded data removed]",
      "text/plain": [
       "<Figure size 432x288 with 1 Axes>"
      ]
     },
     "metadata": {
      "needs_background": "light"
     },
     "output_type": "display_data"
    },
    {
     "data": {
      "image/png": "[encoded data removed]",
      "text/plain": [
       "<Figure size 432x288 with 1 Axes>"
      ]
     },
     "metadata": {
      "needs_background": "light"
     },
     "output_type": "display_data"
    },
    {
     "data": {
      "image/png": "[encoded data removed]",
      "text/plain": [
       "<Figure size 432x288 with 1 Axes>"
      ]
     },
     "metadata": {
      "needs_background": "light"
     },
     "output_type": "display_data"
    },
    {
     "data": {
      "image/png": "[encoded data removed]",
      "text/plain": [
       "<Figure size 432x288 with 1 Axes>"
      ]
     },
     "metadata": {
      "needs_background": "light"
     },
     "output_type": "display_data"
    },
    {
     "data": {
      "image/png": "[encoded data removed]",
      "text/plain": [
       "<Figure size 432x288 with 1 Axes>"
      ]
     },
     "metadata": {
      "needs_background": "light"
     },
     "output_type": "display_data"
    },
    {
     "data": {
      "image/png": "[encoded data removed]",
      "text/plain": [
       "<Figure size 432x288 with 1 Axes>"
      ]
     },
     "metadata": {
      "needs_background": "light"
     },
     "output_type": "display_data"
    }
   ],
   "source": [
    "# 위의 과정을 10번 반복\n",
    "COLORS = ['b', 'g', 'r', 'c', 'm', 'y', 'k', 'w']\n",
    "K=2\n",
    "dataset = np.array([\n",
    "    [1.0,1.0],\n",
    "    [1.5,2.0],\n",
    "    [3.0,4.0],\n",
    "    [5.0,7.0],\n",
    "    [3.5,5.0],\n",
    "    [4.5,5.0],\n",
    "    [3.5,4.5],\n",
    "])\n",
    "centroids = np.array([[0,0],[10,10]])\n",
    "group = [dataset]\n",
    "show_plot(group,centroids)\n",
    "for iteration in range(0,10):\n",
    "    distances = {}\n",
    "    for i, centroid in enumerate(centroids) :\n",
    "        for j, point in enumerate(dataset):\n",
    "            dis = euclidean_dist(centroid,point)\n",
    "            if j in distances:\n",
    "                distances[j].append(dis)\n",
    "            else:\n",
    "                distances[j]=[dis]\n",
    "\n",
    "    cluster = {}\n",
    "    for i in range(K):\n",
    "        cluster[i] = []\n",
    "    for point, distance in distances.items():\n",
    "        close_cent = distance.index(min(distance))\n",
    "        cluster[close_cent].append(point)\n",
    "    group = []\n",
    "\n",
    "    for cls in cluster:\n",
    "        group.append(dataset[cluster[cls]])\n",
    "    show_plot(group,centroids)\n",
    "    new_centroids = []\n",
    "    for cls,points in cluster.items():\n",
    "        new_x = np.mean(dataset[points,0])\n",
    "        new_y = np.mean(dataset[points,1])\n",
    "        new_centroids.append((new_x,new_y))\n",
    "\n",
    "    centroids = np.array(new_centroids)\n",
    "\n",
    "    show_plot(group,centroids)"
   ]
  },
  {
   "cell_type": "code",
   "execution_count": 22,
   "metadata": {
    "scrolled": true
   },
   "outputs": [
    {
     "data": {
      "text/plain": [
       "array([[1.25, 1.5 ],\n",
       "       [3.9 , 5.1 ]])"
      ]
     },
     "execution_count": 22,
     "metadata": {},
     "output_type": "execute_result"
    }
   ],
   "source": [
    "#수렴된 센트로이드\n",
    "centroids"
   ]
  },
  {
   "cell_type": "markdown",
   "metadata": {},
   "source": [
    "# Scikit learn 라이브러리 활용"
   ]
  },
  {
   "cell_type": "code",
   "execution_count": 23,
   "metadata": {},
   "outputs": [
    {
     "name": "stdout",
     "output_type": "stream",
     "text": [
      "[[3.9  5.1 ]\n",
      " [1.25 1.5 ]]\n"
     ]
    }
   ],
   "source": [
    "from sklearn.cluster import KMeans\n",
    "import numpy as np\n",
    "X = dataset\n",
    "kmeans = KMeans(n_clusters=2, random_state=0).fit(X)\n",
    "kmeans.labels_\n",
    "print(kmeans.cluster_centers_)\n"
   ]
  },
  {
   "cell_type": "code",
   "execution_count": 24,
   "metadata": {},
   "outputs": [
    {
     "data": {
      "text/plain": [
       "sys.version_info(major=3, minor=9, micro=12, releaselevel='final', serial=0)"
      ]
     },
     "execution_count": 24,
     "metadata": {},
     "output_type": "execute_result"
    }
   ],
   "source": [
    "import sys\n",
    "sys.version_info"
   ]
  },
  {
   "cell_type": "code",
   "execution_count": null,
   "metadata": {},
   "outputs": [],
   "source": []
  }
 ],
 "metadata": {
  "kernelspec": {
   "display_name": "Python 3 (ipykernel)",
   "language": "python",
   "name": "python3"
  },
  "language_info": {
   "codemirror_mode": {
    "name": "ipython",
    "version": 3
   },
   "file_extension": ".py",
   "mimetype": "text/x-python",
   "name": "python",
   "nbconvert_exporter": "python",
   "pygments_lexer": "ipython3",
   "version": "3.9.12"
  }
 },
 "nbformat": 4,
 "nbformat_minor": 4
}
