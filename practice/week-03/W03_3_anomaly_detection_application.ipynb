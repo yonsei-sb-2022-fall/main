{
 "cells": [
  {
   "cell_type": "markdown",
   "metadata": {},
   "source": [
    "# BIG DATA ANALYSIS : 이상탐지 적용\n",
    "---\n"
   ]
  },
  {
   "cell_type": "markdown",
   "metadata": {},
   "source": [
    "## 신용카드 사기 결제에 대한 데이터 로드"
   ]
  },
  {
   "cell_type": "code",
   "execution_count": 1,
   "metadata": {},
   "outputs": [],
   "source": [
    "import pandas as pd\n",
    "import numpy as np\n",
    "import matplotlib.pyplot as plt\n",
    "import seaborn as sns\n"
   ]
  },
  {
   "cell_type": "code",
   "execution_count": 2,
   "metadata": {},
   "outputs": [],
   "source": [
    "# df = pd.read_csv('credit2.csv')\n",
    "df = pd.read_csv('credit.csv')"
   ]
  },
  {
   "cell_type": "markdown",
   "metadata": {},
   "source": [
    "## EDA"
   ]
  },
  {
   "cell_type": "code",
   "execution_count": 3,
   "metadata": {},
   "outputs": [
    {
     "data": {
      "text/html": [
       "<div>\n",
       "<style scoped>\n",
       "    .dataframe tbody tr th:only-of-type {\n",
       "        vertical-align: middle;\n",
       "    }\n",
       "\n",
       "    .dataframe tbody tr th {\n",
       "        vertical-align: top;\n",
       "    }\n",
       "\n",
       "    .dataframe thead th {\n",
       "        text-align: right;\n",
       "    }\n",
       "</style>\n",
       "<table border=\"1\" class=\"dataframe\">\n",
       "  <thead>\n",
       "    <tr style=\"text-align: right;\">\n",
       "      <th></th>\n",
       "      <th>Time</th>\n",
       "      <th>V1</th>\n",
       "      <th>V2</th>\n",
       "      <th>V3</th>\n",
       "      <th>V4</th>\n",
       "      <th>V5</th>\n",
       "      <th>V6</th>\n",
       "      <th>V7</th>\n",
       "      <th>V8</th>\n",
       "      <th>V9</th>\n",
       "      <th>...</th>\n",
       "      <th>V21</th>\n",
       "      <th>V22</th>\n",
       "      <th>V23</th>\n",
       "      <th>V24</th>\n",
       "      <th>V25</th>\n",
       "      <th>V26</th>\n",
       "      <th>V27</th>\n",
       "      <th>V28</th>\n",
       "      <th>Amount</th>\n",
       "      <th>Class</th>\n",
       "    </tr>\n",
       "  </thead>\n",
       "  <tbody>\n",
       "    <tr>\n",
       "      <th>0</th>\n",
       "      <td>119907.0</td>\n",
       "      <td>-0.611712</td>\n",
       "      <td>-0.769705</td>\n",
       "      <td>-0.149759</td>\n",
       "      <td>-0.224877</td>\n",
       "      <td>2.028577</td>\n",
       "      <td>-2.019887</td>\n",
       "      <td>0.292491</td>\n",
       "      <td>-0.523020</td>\n",
       "      <td>0.358468</td>\n",
       "      <td>...</td>\n",
       "      <td>-0.075208</td>\n",
       "      <td>0.045536</td>\n",
       "      <td>0.380739</td>\n",
       "      <td>0.023440</td>\n",
       "      <td>-2.220686</td>\n",
       "      <td>-0.201146</td>\n",
       "      <td>0.066501</td>\n",
       "      <td>0.221180</td>\n",
       "      <td>1.79</td>\n",
       "      <td>0</td>\n",
       "    </tr>\n",
       "    <tr>\n",
       "      <th>1</th>\n",
       "      <td>78340.0</td>\n",
       "      <td>-0.814682</td>\n",
       "      <td>1.319219</td>\n",
       "      <td>1.329415</td>\n",
       "      <td>0.027273</td>\n",
       "      <td>-0.284871</td>\n",
       "      <td>-0.653985</td>\n",
       "      <td>0.321552</td>\n",
       "      <td>0.435975</td>\n",
       "      <td>-0.704298</td>\n",
       "      <td>...</td>\n",
       "      <td>-0.128619</td>\n",
       "      <td>-0.368565</td>\n",
       "      <td>0.090660</td>\n",
       "      <td>0.401147</td>\n",
       "      <td>-0.261034</td>\n",
       "      <td>0.080621</td>\n",
       "      <td>0.162427</td>\n",
       "      <td>0.059456</td>\n",
       "      <td>1.98</td>\n",
       "      <td>0</td>\n",
       "    </tr>\n",
       "    <tr>\n",
       "      <th>2</th>\n",
       "      <td>82382.0</td>\n",
       "      <td>-0.318193</td>\n",
       "      <td>1.118618</td>\n",
       "      <td>0.969864</td>\n",
       "      <td>-0.127052</td>\n",
       "      <td>0.569563</td>\n",
       "      <td>-0.532484</td>\n",
       "      <td>0.706252</td>\n",
       "      <td>-0.064966</td>\n",
       "      <td>-0.463271</td>\n",
       "      <td>...</td>\n",
       "      <td>-0.305402</td>\n",
       "      <td>-0.774704</td>\n",
       "      <td>-0.123884</td>\n",
       "      <td>-0.495687</td>\n",
       "      <td>-0.018148</td>\n",
       "      <td>0.121679</td>\n",
       "      <td>0.249050</td>\n",
       "      <td>0.092516</td>\n",
       "      <td>0.89</td>\n",
       "      <td>0</td>\n",
       "    </tr>\n",
       "    <tr>\n",
       "      <th>3</th>\n",
       "      <td>31717.0</td>\n",
       "      <td>-1.328271</td>\n",
       "      <td>1.018378</td>\n",
       "      <td>1.775426</td>\n",
       "      <td>-1.574193</td>\n",
       "      <td>-0.117696</td>\n",
       "      <td>-0.457733</td>\n",
       "      <td>0.681867</td>\n",
       "      <td>-0.031641</td>\n",
       "      <td>0.383872</td>\n",
       "      <td>...</td>\n",
       "      <td>-0.220815</td>\n",
       "      <td>-0.419013</td>\n",
       "      <td>-0.239197</td>\n",
       "      <td>0.009967</td>\n",
       "      <td>0.232829</td>\n",
       "      <td>0.814177</td>\n",
       "      <td>0.098797</td>\n",
       "      <td>-0.004273</td>\n",
       "      <td>15.98</td>\n",
       "      <td>0</td>\n",
       "    </tr>\n",
       "    <tr>\n",
       "      <th>4</th>\n",
       "      <td>80923.0</td>\n",
       "      <td>1.276712</td>\n",
       "      <td>0.617120</td>\n",
       "      <td>-0.578014</td>\n",
       "      <td>0.879173</td>\n",
       "      <td>0.061706</td>\n",
       "      <td>-1.472002</td>\n",
       "      <td>0.373692</td>\n",
       "      <td>-0.287204</td>\n",
       "      <td>-0.084482</td>\n",
       "      <td>...</td>\n",
       "      <td>-0.160161</td>\n",
       "      <td>-0.430404</td>\n",
       "      <td>-0.076738</td>\n",
       "      <td>0.258708</td>\n",
       "      <td>0.552170</td>\n",
       "      <td>0.370701</td>\n",
       "      <td>-0.034255</td>\n",
       "      <td>0.041709</td>\n",
       "      <td>0.76</td>\n",
       "      <td>0</td>\n",
       "    </tr>\n",
       "  </tbody>\n",
       "</table>\n",
       "<p>5 rows × 31 columns</p>\n",
       "</div>"
      ],
      "text/plain": [
       "       Time        V1        V2        V3        V4        V5        V6  \\\n",
       "0  119907.0 -0.611712 -0.769705 -0.149759 -0.224877  2.028577 -2.019887   \n",
       "1   78340.0 -0.814682  1.319219  1.329415  0.027273 -0.284871 -0.653985   \n",
       "2   82382.0 -0.318193  1.118618  0.969864 -0.127052  0.569563 -0.532484   \n",
       "3   31717.0 -1.328271  1.018378  1.775426 -1.574193 -0.117696 -0.457733   \n",
       "4   80923.0  1.276712  0.617120 -0.578014  0.879173  0.061706 -1.472002   \n",
       "\n",
       "         V7        V8        V9  ...       V21       V22       V23       V24  \\\n",
       "0  0.292491 -0.523020  0.358468  ... -0.075208  0.045536  0.380739  0.023440   \n",
       "1  0.321552  0.435975 -0.704298  ... -0.128619 -0.368565  0.090660  0.401147   \n",
       "2  0.706252 -0.064966 -0.463271  ... -0.305402 -0.774704 -0.123884 -0.495687   \n",
       "3  0.681867 -0.031641  0.383872  ... -0.220815 -0.419013 -0.239197  0.009967   \n",
       "4  0.373692 -0.287204 -0.084482  ... -0.160161 -0.430404 -0.076738  0.258708   \n",
       "\n",
       "        V25       V26       V27       V28  Amount  Class  \n",
       "0 -2.220686 -0.201146  0.066501  0.221180    1.79      0  \n",
       "1 -0.261034  0.080621  0.162427  0.059456    1.98      0  \n",
       "2 -0.018148  0.121679  0.249050  0.092516    0.89      0  \n",
       "3  0.232829  0.814177  0.098797 -0.004273   15.98      0  \n",
       "4  0.552170  0.370701 -0.034255  0.041709    0.76      0  \n",
       "\n",
       "[5 rows x 31 columns]"
      ]
     },
     "execution_count": 3,
     "metadata": {},
     "output_type": "execute_result"
    }
   ],
   "source": [
    "df.head()\n"
   ]
  },
  {
   "cell_type": "code",
   "execution_count": 4,
   "metadata": {},
   "outputs": [
    {
     "name": "stdout",
     "output_type": "stream",
     "text": [
      "<class 'pandas.core.frame.DataFrame'>\n",
      "RangeIndex: 85442 entries, 0 to 85441\n",
      "Data columns (total 31 columns):\n",
      " #   Column  Non-Null Count  Dtype  \n",
      "---  ------  --------------  -----  \n",
      " 0   Time    85442 non-null  float64\n",
      " 1   V1      85442 non-null  float64\n",
      " 2   V2      85442 non-null  float64\n",
      " 3   V3      85442 non-null  float64\n",
      " 4   V4      85442 non-null  float64\n",
      " 5   V5      85442 non-null  float64\n",
      " 6   V6      85442 non-null  float64\n",
      " 7   V7      85442 non-null  float64\n",
      " 8   V8      85442 non-null  float64\n",
      " 9   V9      85442 non-null  float64\n",
      " 10  V10     85442 non-null  float64\n",
      " 11  V11     85442 non-null  float64\n",
      " 12  V12     85442 non-null  float64\n",
      " 13  V13     85442 non-null  float64\n",
      " 14  V14     85442 non-null  float64\n",
      " 15  V15     85442 non-null  float64\n",
      " 16  V16     85442 non-null  float64\n",
      " 17  V17     85442 non-null  float64\n",
      " 18  V18     85442 non-null  float64\n",
      " 19  V19     85442 non-null  float64\n",
      " 20  V20     85442 non-null  float64\n",
      " 21  V21     85442 non-null  float64\n",
      " 22  V22     85442 non-null  float64\n",
      " 23  V23     85442 non-null  float64\n",
      " 24  V24     85442 non-null  float64\n",
      " 25  V25     85442 non-null  float64\n",
      " 26  V26     85442 non-null  float64\n",
      " 27  V27     85442 non-null  float64\n",
      " 28  V28     85442 non-null  float64\n",
      " 29  Amount  85442 non-null  float64\n",
      " 30  Class   85442 non-null  int64  \n",
      "dtypes: float64(30), int64(1)\n",
      "memory usage: 20.2 MB\n"
     ]
    }
   ],
   "source": [
    "df.info()"
   ]
  },
  {
   "cell_type": "code",
   "execution_count": 5,
   "metadata": {
    "scrolled": false
   },
   "outputs": [
    {
     "data": {
      "text/html": [
       "<div>\n",
       "<style scoped>\n",
       "    .dataframe tbody tr th:only-of-type {\n",
       "        vertical-align: middle;\n",
       "    }\n",
       "\n",
       "    .dataframe tbody tr th {\n",
       "        vertical-align: top;\n",
       "    }\n",
       "\n",
       "    .dataframe thead th {\n",
       "        text-align: right;\n",
       "    }\n",
       "</style>\n",
       "<table border=\"1\" class=\"dataframe\">\n",
       "  <thead>\n",
       "    <tr style=\"text-align: right;\">\n",
       "      <th></th>\n",
       "      <th>Time</th>\n",
       "      <th>V1</th>\n",
       "      <th>V2</th>\n",
       "      <th>V3</th>\n",
       "      <th>V4</th>\n",
       "      <th>V5</th>\n",
       "      <th>V6</th>\n",
       "      <th>V7</th>\n",
       "      <th>V8</th>\n",
       "      <th>V9</th>\n",
       "      <th>...</th>\n",
       "      <th>V21</th>\n",
       "      <th>V22</th>\n",
       "      <th>V23</th>\n",
       "      <th>V24</th>\n",
       "      <th>V25</th>\n",
       "      <th>V26</th>\n",
       "      <th>V27</th>\n",
       "      <th>V28</th>\n",
       "      <th>Amount</th>\n",
       "      <th>Class</th>\n",
       "    </tr>\n",
       "  </thead>\n",
       "  <tbody>\n",
       "    <tr>\n",
       "      <th>count</th>\n",
       "      <td>85442.000000</td>\n",
       "      <td>85442.000000</td>\n",
       "      <td>85442.000000</td>\n",
       "      <td>85442.000000</td>\n",
       "      <td>85442.000000</td>\n",
       "      <td>85442.000000</td>\n",
       "      <td>85442.000000</td>\n",
       "      <td>85442.000000</td>\n",
       "      <td>85442.000000</td>\n",
       "      <td>85442.000000</td>\n",
       "      <td>...</td>\n",
       "      <td>85442.000000</td>\n",
       "      <td>85442.000000</td>\n",
       "      <td>85442.000000</td>\n",
       "      <td>85442.000000</td>\n",
       "      <td>85442.000000</td>\n",
       "      <td>85442.000000</td>\n",
       "      <td>85442.000000</td>\n",
       "      <td>85442.000000</td>\n",
       "      <td>85442.000000</td>\n",
       "      <td>85442.000000</td>\n",
       "    </tr>\n",
       "    <tr>\n",
       "      <th>mean</th>\n",
       "      <td>94606.263442</td>\n",
       "      <td>0.003944</td>\n",
       "      <td>-0.000699</td>\n",
       "      <td>0.001165</td>\n",
       "      <td>0.000528</td>\n",
       "      <td>-0.009398</td>\n",
       "      <td>-0.001371</td>\n",
       "      <td>-0.006506</td>\n",
       "      <td>0.001543</td>\n",
       "      <td>0.008015</td>\n",
       "      <td>...</td>\n",
       "      <td>0.001229</td>\n",
       "      <td>0.000833</td>\n",
       "      <td>-0.000803</td>\n",
       "      <td>-0.001834</td>\n",
       "      <td>0.001242</td>\n",
       "      <td>0.001726</td>\n",
       "      <td>0.000597</td>\n",
       "      <td>-0.001459</td>\n",
       "      <td>88.653188</td>\n",
       "      <td>0.001580</td>\n",
       "    </tr>\n",
       "    <tr>\n",
       "      <th>std</th>\n",
       "      <td>47511.551811</td>\n",
       "      <td>1.954570</td>\n",
       "      <td>1.649659</td>\n",
       "      <td>1.503579</td>\n",
       "      <td>1.412336</td>\n",
       "      <td>1.370224</td>\n",
       "      <td>1.323985</td>\n",
       "      <td>1.216345</td>\n",
       "      <td>1.177662</td>\n",
       "      <td>1.097720</td>\n",
       "      <td>...</td>\n",
       "      <td>0.729902</td>\n",
       "      <td>0.724724</td>\n",
       "      <td>0.650403</td>\n",
       "      <td>0.602868</td>\n",
       "      <td>0.520276</td>\n",
       "      <td>0.482369</td>\n",
       "      <td>0.398898</td>\n",
       "      <td>0.309939</td>\n",
       "      <td>249.697481</td>\n",
       "      <td>0.039718</td>\n",
       "    </tr>\n",
       "    <tr>\n",
       "      <th>min</th>\n",
       "      <td>0.000000</td>\n",
       "      <td>-46.855047</td>\n",
       "      <td>-63.344698</td>\n",
       "      <td>-32.454198</td>\n",
       "      <td>-5.266509</td>\n",
       "      <td>-42.147898</td>\n",
       "      <td>-23.496714</td>\n",
       "      <td>-41.506796</td>\n",
       "      <td>-50.943369</td>\n",
       "      <td>-13.434066</td>\n",
       "      <td>...</td>\n",
       "      <td>-22.665685</td>\n",
       "      <td>-10.933144</td>\n",
       "      <td>-36.666000</td>\n",
       "      <td>-2.836627</td>\n",
       "      <td>-7.025783</td>\n",
       "      <td>-2.534330</td>\n",
       "      <td>-8.878665</td>\n",
       "      <td>-9.617915</td>\n",
       "      <td>0.000000</td>\n",
       "      <td>0.000000</td>\n",
       "    </tr>\n",
       "    <tr>\n",
       "      <th>25%</th>\n",
       "      <td>54013.000000</td>\n",
       "      <td>-0.917481</td>\n",
       "      <td>-0.603767</td>\n",
       "      <td>-0.887143</td>\n",
       "      <td>-0.846838</td>\n",
       "      <td>-0.698957</td>\n",
       "      <td>-0.769895</td>\n",
       "      <td>-0.558207</td>\n",
       "      <td>-0.207071</td>\n",
       "      <td>-0.635456</td>\n",
       "      <td>...</td>\n",
       "      <td>-0.227931</td>\n",
       "      <td>-0.542422</td>\n",
       "      <td>-0.162291</td>\n",
       "      <td>-0.354636</td>\n",
       "      <td>-0.316703</td>\n",
       "      <td>-0.326244</td>\n",
       "      <td>-0.070912</td>\n",
       "      <td>-0.052954</td>\n",
       "      <td>5.830000</td>\n",
       "      <td>0.000000</td>\n",
       "    </tr>\n",
       "    <tr>\n",
       "      <th>50%</th>\n",
       "      <td>84573.500000</td>\n",
       "      <td>0.026779</td>\n",
       "      <td>0.063766</td>\n",
       "      <td>0.179502</td>\n",
       "      <td>-0.018762</td>\n",
       "      <td>-0.064245</td>\n",
       "      <td>-0.273364</td>\n",
       "      <td>0.034958</td>\n",
       "      <td>0.024180</td>\n",
       "      <td>-0.044666</td>\n",
       "      <td>...</td>\n",
       "      <td>-0.029594</td>\n",
       "      <td>0.007256</td>\n",
       "      <td>-0.011086</td>\n",
       "      <td>0.039440</td>\n",
       "      <td>0.016719</td>\n",
       "      <td>-0.051762</td>\n",
       "      <td>0.001556</td>\n",
       "      <td>0.010937</td>\n",
       "      <td>22.095000</td>\n",
       "      <td>0.000000</td>\n",
       "    </tr>\n",
       "    <tr>\n",
       "      <th>75%</th>\n",
       "      <td>139187.750000</td>\n",
       "      <td>1.317737</td>\n",
       "      <td>0.803349</td>\n",
       "      <td>1.025681</td>\n",
       "      <td>0.745032</td>\n",
       "      <td>0.606101</td>\n",
       "      <td>0.398647</td>\n",
       "      <td>0.562449</td>\n",
       "      <td>0.327973</td>\n",
       "      <td>0.604716</td>\n",
       "      <td>...</td>\n",
       "      <td>0.186242</td>\n",
       "      <td>0.529991</td>\n",
       "      <td>0.148336</td>\n",
       "      <td>0.433670</td>\n",
       "      <td>0.351084</td>\n",
       "      <td>0.243768</td>\n",
       "      <td>0.090090</td>\n",
       "      <td>0.076941</td>\n",
       "      <td>78.000000</td>\n",
       "      <td>0.000000</td>\n",
       "    </tr>\n",
       "    <tr>\n",
       "      <th>max</th>\n",
       "      <td>172784.000000</td>\n",
       "      <td>2.430507</td>\n",
       "      <td>21.467203</td>\n",
       "      <td>4.069865</td>\n",
       "      <td>16.715537</td>\n",
       "      <td>34.099309</td>\n",
       "      <td>22.529298</td>\n",
       "      <td>36.677268</td>\n",
       "      <td>19.587773</td>\n",
       "      <td>10.370658</td>\n",
       "      <td>...</td>\n",
       "      <td>22.588989</td>\n",
       "      <td>8.361985</td>\n",
       "      <td>22.528412</td>\n",
       "      <td>4.016342</td>\n",
       "      <td>6.070850</td>\n",
       "      <td>3.220178</td>\n",
       "      <td>12.152401</td>\n",
       "      <td>15.374949</td>\n",
       "      <td>19656.530000</td>\n",
       "      <td>1.000000</td>\n",
       "    </tr>\n",
       "  </tbody>\n",
       "</table>\n",
       "<p>8 rows × 31 columns</p>\n",
       "</div>"
      ],
      "text/plain": [
       "                Time            V1            V2            V3            V4  \\\n",
       "count   85442.000000  85442.000000  85442.000000  85442.000000  85442.000000   \n",
       "mean    94606.263442      0.003944     -0.000699      0.001165      0.000528   \n",
       "std     47511.551811      1.954570      1.649659      1.503579      1.412336   \n",
       "min         0.000000    -46.855047    -63.344698    -32.454198     -5.266509   \n",
       "25%     54013.000000     -0.917481     -0.603767     -0.887143     -0.846838   \n",
       "50%     84573.500000      0.026779      0.063766      0.179502     -0.018762   \n",
       "75%    139187.750000      1.317737      0.803349      1.025681      0.745032   \n",
       "max    172784.000000      2.430507     21.467203      4.069865     16.715537   \n",
       "\n",
       "                 V5            V6            V7            V8            V9  \\\n",
       "count  85442.000000  85442.000000  85442.000000  85442.000000  85442.000000   \n",
       "mean      -0.009398     -0.001371     -0.006506      0.001543      0.008015   \n",
       "std        1.370224      1.323985      1.216345      1.177662      1.097720   \n",
       "min      -42.147898    -23.496714    -41.506796    -50.943369    -13.434066   \n",
       "25%       -0.698957     -0.769895     -0.558207     -0.207071     -0.635456   \n",
       "50%       -0.064245     -0.273364      0.034958      0.024180     -0.044666   \n",
       "75%        0.606101      0.398647      0.562449      0.327973      0.604716   \n",
       "max       34.099309     22.529298     36.677268     19.587773     10.370658   \n",
       "\n",
       "       ...           V21           V22           V23           V24  \\\n",
       "count  ...  85442.000000  85442.000000  85442.000000  85442.000000   \n",
       "mean   ...      0.001229      0.000833     -0.000803     -0.001834   \n",
       "std    ...      0.729902      0.724724      0.650403      0.602868   \n",
       "min    ...    -22.665685    -10.933144    -36.666000     -2.836627   \n",
       "25%    ...     -0.227931     -0.542422     -0.162291     -0.354636   \n",
       "50%    ...     -0.029594      0.007256     -0.011086      0.039440   \n",
       "75%    ...      0.186242      0.529991      0.148336      0.433670   \n",
       "max    ...     22.588989      8.361985     22.528412      4.016342   \n",
       "\n",
       "                V25           V26           V27           V28        Amount  \\\n",
       "count  85442.000000  85442.000000  85442.000000  85442.000000  85442.000000   \n",
       "mean       0.001242      0.001726      0.000597     -0.001459     88.653188   \n",
       "std        0.520276      0.482369      0.398898      0.309939    249.697481   \n",
       "min       -7.025783     -2.534330     -8.878665     -9.617915      0.000000   \n",
       "25%       -0.316703     -0.326244     -0.070912     -0.052954      5.830000   \n",
       "50%        0.016719     -0.051762      0.001556      0.010937     22.095000   \n",
       "75%        0.351084      0.243768      0.090090      0.076941     78.000000   \n",
       "max        6.070850      3.220178     12.152401     15.374949  19656.530000   \n",
       "\n",
       "              Class  \n",
       "count  85442.000000  \n",
       "mean       0.001580  \n",
       "std        0.039718  \n",
       "min        0.000000  \n",
       "25%        0.000000  \n",
       "50%        0.000000  \n",
       "75%        0.000000  \n",
       "max        1.000000  \n",
       "\n",
       "[8 rows x 31 columns]"
      ]
     },
     "execution_count": 5,
     "metadata": {},
     "output_type": "execute_result"
    }
   ],
   "source": [
    "df.describe()\n"
   ]
  },
  {
   "cell_type": "markdown",
   "metadata": {},
   "source": [
    "## Class Imbalance 확인"
   ]
  },
  {
   "cell_type": "code",
   "execution_count": 6,
   "metadata": {},
   "outputs": [
    {
     "data": {
      "text/plain": [
       "0    85307\n",
       "1      135\n",
       "Name: Class, dtype: int64"
      ]
     },
     "execution_count": 6,
     "metadata": {},
     "output_type": "execute_result"
    }
   ],
   "source": [
    "df['Class'].value_counts()"
   ]
  },
  {
   "cell_type": "code",
   "execution_count": 7,
   "metadata": {
    "scrolled": true
   },
   "outputs": [
    {
     "data": {
      "image/png": "[encoded data removed]",
      "text/plain": [
       "<Figure size 432x288 with 1 Axes>"
      ]
     },
     "metadata": {
      "needs_background": "light"
     },
     "output_type": "display_data"
    }
   ],
   "source": [
    "LABELS = [\"Normal\", \"Fraud\"]\n",
    "\n",
    "count_classes = pd.value_counts(df['Class'], sort = True)\n",
    "count_classes.plot(kind = 'bar', rot=0)\n",
    "plt.title(\"Transaction Class Distribution\")\n",
    "plt.xticks(range(2), LABELS)\n",
    "plt.xlabel(\"Class\")\n",
    "plt.ylabel(\"Frequency\");"
   ]
  },
  {
   "cell_type": "markdown",
   "metadata": {},
   "source": [
    "## 사기와 정상 결제의 비교"
   ]
  },
  {
   "cell_type": "code",
   "execution_count": 8,
   "metadata": {},
   "outputs": [],
   "source": [
    "Fraud = df[df['Class']==1]\n",
    "\n",
    "Normal = df[df['Class']==0]"
   ]
  },
  {
   "cell_type": "code",
   "execution_count": 9,
   "metadata": {},
   "outputs": [
    {
     "data": {
      "text/plain": [
       "(135, 31)"
      ]
     },
     "execution_count": 9,
     "metadata": {},
     "output_type": "execute_result"
    }
   ],
   "source": [
    "Fraud.shape"
   ]
  },
  {
   "cell_type": "code",
   "execution_count": 10,
   "metadata": {},
   "outputs": [
    {
     "data": {
      "text/plain": [
       "(85307, 31)"
      ]
     },
     "execution_count": 10,
     "metadata": {},
     "output_type": "execute_result"
    }
   ],
   "source": [
    "Normal.shape"
   ]
  },
  {
   "cell_type": "code",
   "execution_count": 11,
   "metadata": {},
   "outputs": [
    {
     "data": {
      "text/plain": [
       "count     135.000000\n",
       "mean      144.546593\n",
       "std       322.677448\n",
       "min         0.000000\n",
       "25%         1.000000\n",
       "50%         8.540000\n",
       "75%       112.425000\n",
       "max      2125.870000\n",
       "Name: Amount, dtype: float64"
      ]
     },
     "execution_count": 11,
     "metadata": {},
     "output_type": "execute_result"
    }
   ],
   "source": [
    "Fraud.Amount.describe()"
   ]
  },
  {
   "cell_type": "code",
   "execution_count": 12,
   "metadata": {
    "scrolled": true
   },
   "outputs": [
    {
     "data": {
      "text/plain": [
       "count    85307.000000\n",
       "mean        88.564735\n",
       "std        249.557598\n",
       "min          0.000000\n",
       "25%          5.880000\n",
       "50%         22.130000\n",
       "75%         78.000000\n",
       "max      19656.530000\n",
       "Name: Amount, dtype: float64"
      ]
     },
     "execution_count": 12,
     "metadata": {},
     "output_type": "execute_result"
    }
   ],
   "source": [
    "Normal.Amount.describe()"
   ]
  },
  {
   "cell_type": "markdown",
   "metadata": {},
   "source": [
    "## 혹시 결제 금액에 따라 구별 할 수 있지 않을까?"
   ]
  },
  {
   "cell_type": "code",
   "execution_count": 13,
   "metadata": {
    "scrolled": true
   },
   "outputs": [
    {
     "data": {
      "image/png": "[encoded data removed]",
      "text/plain": [
       "<Figure size 432x288 with 2 Axes>"
      ]
     },
     "metadata": {
      "needs_background": "light"
     },
     "output_type": "display_data"
    }
   ],
   "source": [
    "f, (ax1, ax2) = plt.subplots(2, 1, sharex=True)\n",
    "f.suptitle('Amount per transaction by class')\n",
    "bins = 50\n",
    "ax1.hist(Fraud.Amount, bins = bins)\n",
    "ax1.set_title('Fraud')\n",
    "ax2.hist(Normal.Amount, bins = bins)\n",
    "ax2.set_title('Normal')\n",
    "plt.xlabel('Amount ($)')\n",
    "plt.ylabel('Number of Transactions')\n",
    "plt.xlim((0, 20000))\n",
    "plt.yscale('log')\n",
    "plt.show();"
   ]
  },
  {
   "cell_type": "markdown",
   "metadata": {},
   "source": [
    "## 혹시 결제 시간에 따라 구별 할 수 있지 않을까?"
   ]
  },
  {
   "cell_type": "code",
   "execution_count": 14,
   "metadata": {
    "scrolled": true
   },
   "outputs": [
    {
     "data": {
      "image/png": "[encoded data removed]",
      "text/plain": [
       "<Figure size 432x288 with 2 Axes>"
      ]
     },
     "metadata": {
      "needs_background": "light"
     },
     "output_type": "display_data"
    }
   ],
   "source": [
    "f, (ax1, ax2) = plt.subplots(2, 1, sharex=True)\n",
    "f.suptitle('Time of transaction vs Amount by class')\n",
    "ax1.scatter(Fraud.Time, Fraud.Amount)\n",
    "ax1.set_title('Fraud')\n",
    "ax2.scatter(Normal.Time, Normal.Amount)\n",
    "ax2.set_title('Normal')\n",
    "plt.xlabel('Time (in Seconds)')\n",
    "plt.ylabel('Amount')\n",
    "plt.show()\n"
   ]
  },
  {
   "cell_type": "markdown",
   "metadata": {},
   "source": [
    "## 전체 Feature에 대한 시각화"
   ]
  },
  {
   "cell_type": "code",
   "execution_count": 15,
   "metadata": {},
   "outputs": [
    {
     "data": {
      "text/plain": [
       "(85442, 31)"
      ]
     },
     "execution_count": 15,
     "metadata": {},
     "output_type": "execute_result"
    }
   ],
   "source": [
    "data1= df.sample(frac = 1,random_state=42)\n",
    "\n",
    "data1.shape"
   ]
  },
  {
   "cell_type": "code",
   "execution_count": 16,
   "metadata": {
    "scrolled": false
   },
   "outputs": [
    {
     "data": {
      "image/png": "[encoded data removed]",
      "text/plain": [
       "<Figure size 1440x1440 with 36 Axes>"
      ]
     },
     "metadata": {
      "needs_background": "light"
     },
     "output_type": "display_data"
    }
   ],
   "source": [
    "data1.hist(figsize=(20,20))\n",
    "plt.show()"
   ]
  },
  {
   "cell_type": "markdown",
   "metadata": {},
   "source": [
    "## 이상치의 비율 확인"
   ]
  },
  {
   "cell_type": "code",
   "execution_count": 17,
   "metadata": {},
   "outputs": [],
   "source": [
    "Fraud = data1[data1['Class']==1]\n",
    "Valid = data1[data1['Class']==0]\n",
    "outlier_fraction = len(Fraud)/float(len(Valid))"
   ]
  },
  {
   "cell_type": "code",
   "execution_count": 18,
   "metadata": {},
   "outputs": [
    {
     "name": "stdout",
     "output_type": "stream",
     "text": [
      "0.001582519605659559\n",
      "Fraud Cases : 135\n",
      "Valid Cases : 85307\n"
     ]
    }
   ],
   "source": [
    "print(outlier_fraction)\n",
    "print(\"Fraud Cases : {}\".format(len(Fraud)))\n",
    "print(\"Valid Cases : {}\".format(len(Valid)))"
   ]
  },
  {
   "cell_type": "markdown",
   "metadata": {},
   "source": [
    "## 속성간의 상관관계 비교"
   ]
  },
  {
   "cell_type": "code",
   "execution_count": 19,
   "metadata": {
    "scrolled": false
   },
   "outputs": [
    {
     "data": {
      "image/png": "[encoded data removed]",
      "text/plain": [
       "<Figure size 864x648 with 2 Axes>"
      ]
     },
     "metadata": {
      "needs_background": "light"
     },
     "output_type": "display_data"
    }
   ],
   "source": [
    "correlation_matrix = data1.corr()\n",
    "fig = plt.figure(figsize=(12,9))\n",
    "sns.heatmap(correlation_matrix,vmax=0.8,square = True)\n",
    "plt.show()"
   ]
  },
  {
   "cell_type": "markdown",
   "metadata": {},
   "source": [
    "## 상관관계 절대값 순으로 정렬"
   ]
  },
  {
   "cell_type": "code",
   "execution_count": 20,
   "metadata": {},
   "outputs": [
    {
     "data": {
      "text/plain": [
       "V25       0.000163\n",
       "V13       0.001400\n",
       "V24       0.004108\n",
       "V26       0.004310\n",
       "V28       0.007956\n",
       "V15       0.008494\n",
       "Amount    0.008905\n",
       "Time      0.009264\n",
       "V22       0.009297\n",
       "V21       0.012062\n",
       "V8        0.012771\n",
       "V20       0.014444\n",
       "V23       0.015165\n",
       "V27       0.020911\n",
       "V19       0.023803\n",
       "V6        0.037259\n",
       "V5        0.072362\n",
       "V2        0.074514\n",
       "V1        0.081175\n",
       "V9        0.083798\n",
       "V18       0.092553\n",
       "V4        0.124370\n",
       "V11       0.140900\n",
       "V7        0.153823\n",
       "V3        0.162400\n",
       "V16       0.167519\n",
       "V10       0.191704\n",
       "V12       0.241381\n",
       "V14       0.279430\n",
       "V17       0.287536\n",
       "Class     1.000000\n",
       "Name: Class, dtype: float64"
      ]
     },
     "execution_count": 20,
     "metadata": {},
     "output_type": "execute_result"
    }
   ],
   "source": [
    "\n",
    "correlation_matrix['Class'].abs().sort_values()"
   ]
  },
  {
   "cell_type": "markdown",
   "metadata": {},
   "source": [
    "## 속성과 레이블 분리"
   ]
  },
  {
   "cell_type": "code",
   "execution_count": 21,
   "metadata": {},
   "outputs": [
    {
     "name": "stdout",
     "output_type": "stream",
     "text": [
      "['V14', 'V17', 'V12']\n",
      "(85442, 3)\n",
      "(85442,)\n"
     ]
    }
   ],
   "source": [
    "columns = data1.columns.tolist()\n",
    "# Filter the columns to remove data we do not want \n",
    "columns = [c for c in columns if c not in [\"Class\"]]\n",
    "# columns = correlation_matrix['Class'].abs().sort_values()[-6:-1].keys()\n",
    "columns = [\"V14\",\"V17\",\"V12\"]\n",
    "print(columns)\n",
    "# Store the variable we are predicting \n",
    "target = \"Class\"\n",
    "# Define a random state \n",
    "X = data1[columns].values\n",
    "y = data1[target].values\n",
    "\n",
    "# Print the shapes of X & Y\n",
    "print(X.shape)\n",
    "print(y.shape)"
   ]
  },
  {
   "cell_type": "code",
   "execution_count": 22,
   "metadata": {},
   "outputs": [
    {
     "data": {
      "text/plain": [
       "<matplotlib.collections.PathCollection at 0x7fca6cf61a00>"
      ]
     },
     "execution_count": 22,
     "metadata": {},
     "output_type": "execute_result"
    },
    {
     "data": {
      "image/png": "[encoded data removed]",
      "text/plain": [
       "<Figure size 432x288 with 1 Axes>"
      ]
     },
     "metadata": {
      "needs_background": "light"
     },
     "output_type": "display_data"
    }
   ],
   "source": [
    "normal = y==0\n",
    "fraud  = y==1\n",
    "plt.scatter(X[normal, columns.index(\"V14\")], X[normal, columns.index(\"V17\")], s=10, color='b',alpha=0.1)\n",
    "plt.scatter(X[fraud, columns.index(\"V14\")], X[fraud, columns.index(\"V17\")], s=10, color='r',alpha=0.5)"
   ]
  },
  {
   "cell_type": "code",
   "execution_count": 23,
   "metadata": {},
   "outputs": [
    {
     "data": {
      "text/plain": [
       "0.9984199808056927"
      ]
     },
     "execution_count": 23,
     "metadata": {},
     "output_type": "execute_result"
    }
   ],
   "source": [
    "# 만약 모두다 정상이라고 했을 때의 Accuracy\n",
    "(y == 0).sum()/len(y)"
   ]
  },
  {
   "cell_type": "markdown",
   "metadata": {},
   "source": [
    "## 이상탐지 알고리즘 Import"
   ]
  },
  {
   "cell_type": "code",
   "execution_count": 24,
   "metadata": {},
   "outputs": [],
   "source": [
    "from sklearn.metrics import classification_report,accuracy_score\n",
    "from sklearn.ensemble import IsolationForest\n",
    "from sklearn.neighbors import LocalOutlierFactor\n",
    "from sklearn.svm import OneClassSVM\n",
    "from sklearn.metrics import plot_confusion_matrix\n"
   ]
  },
  {
   "cell_type": "markdown",
   "metadata": {},
   "source": [
    "## 데이터셋 분리"
   ]
  },
  {
   "cell_type": "code",
   "execution_count": 25,
   "metadata": {},
   "outputs": [],
   "source": [
    "from sklearn.model_selection import StratifiedShuffleSplit\n",
    "from sklearn.metrics import confusion_matrix\n",
    "\n",
    "# X_train, X_test, y_train, y_test = train_test_split(X, Y, test_size=0.33, random_state=1)\n",
    "sss = StratifiedShuffleSplit(n_splits=1, test_size=0.4, random_state=42)\n",
    "\n",
    "for train_index, test_index in sss.split(X, y):\n",
    "    X_train, X_test = X[train_index], X[test_index]\n",
    "    y_train, y_test = y[train_index], y[test_index]\n"
   ]
  },
  {
   "cell_type": "markdown",
   "metadata": {},
   "source": [
    "## 분석 시작"
   ]
  },
  {
   "cell_type": "markdown",
   "metadata": {},
   "source": [
    "### 1. Logisting Regression"
   ]
  },
  {
   "cell_type": "code",
   "execution_count": 26,
   "metadata": {},
   "outputs": [
    {
     "name": "stdout",
     "output_type": "stream",
     "text": [
      "0.9992099950258946\n",
      "              precision    recall  f1-score   support\n",
      "\n",
      "           0       1.00      1.00      1.00     34123\n",
      "           1       0.85      0.61      0.71        54\n",
      "\n",
      "    accuracy                           1.00     34177\n",
      "   macro avg       0.92      0.81      0.85     34177\n",
      "weighted avg       1.00      1.00      1.00     34177\n",
      "\n",
      "[[34117     6]\n",
      " [   21    33]]\n"
     ]
    }
   ],
   "source": [
    "from sklearn.linear_model import LogisticRegression\n",
    "from sklearn.model_selection import train_test_split\n",
    "    \n",
    "model = LogisticRegression(max_iter=1000,random_state=42)\n",
    "model.fit(X_train,y_train)\n",
    "y_pred = model.predict(X_test)\n",
    "\n",
    "print(accuracy_score(y_test,y_pred))\n",
    "print(classification_report(y_test,y_pred))\n",
    "print(confusion_matrix(y_test, y_pred))"
   ]
  },
  {
   "cell_type": "markdown",
   "metadata": {},
   "source": [
    "### 2. Isolation Forest"
   ]
  },
  {
   "cell_type": "code",
   "execution_count": 27,
   "metadata": {},
   "outputs": [
    {
     "name": "stdout",
     "output_type": "stream",
     "text": [
      "0.0015800253584316785\n",
      "0.9991807355824093\n",
      "              precision    recall  f1-score   support\n",
      "\n",
      "           0       1.00      1.00      1.00     34123\n",
      "           1       0.72      0.78      0.75        54\n",
      "\n",
      "    accuracy                           1.00     34177\n",
      "   macro avg       0.86      0.89      0.87     34177\n",
      "weighted avg       1.00      1.00      1.00     34177\n",
      "\n",
      "[[34107    16]\n",
      " [   12    42]]\n"
     ]
    }
   ],
   "source": [
    "train_normal = X_train[y_train==0]\n",
    "train_outliers = X_train[y_train==1] \n",
    "outlier_prop = len(train_outliers) / len(X_train) \n",
    "print(outlier_prop)\n",
    "\n",
    "clf = IsolationForest(contamination=0.0015,random_state=42)\n",
    "clf.fit(X_train)\n",
    "y_pred = clf.predict(X_test)\n",
    "\n",
    "y_pred[y_pred == 1] = 0\n",
    "y_pred[y_pred == -1] = 1\n",
    "\n",
    "print(accuracy_score(y_test,y_pred))\n",
    "print(classification_report(y_test,y_pred))\n",
    "print(confusion_matrix(y_test, y_pred))"
   ]
  },
  {
   "cell_type": "markdown",
   "metadata": {},
   "source": [
    "### 3. One-Class SVM"
   ]
  },
  {
   "cell_type": "code",
   "execution_count": 28,
   "metadata": {
    "scrolled": true
   },
   "outputs": [
    {
     "name": "stdout",
     "output_type": "stream",
     "text": [
      "[LibSVM]*\n",
      "optimization finished, #iter = 56\n",
      "obj = 847.393554, rho = 37.222023\n",
      "nSV = 50, nBSV = 48\n",
      "0.9991807355824093\n",
      "              precision    recall  f1-score   support\n",
      "\n",
      "           0       1.00      1.00      1.00     34123\n",
      "           1       0.71      0.81      0.76        54\n",
      "\n",
      "    accuracy                           1.00     34177\n",
      "   macro avg       0.85      0.91      0.88     34177\n",
      "weighted avg       1.00      1.00      1.00     34177\n",
      "\n",
      "[[34105    18]\n",
      " [   10    44]]\n"
     ]
    }
   ],
   "source": [
    "from sklearn.svm import OneClassSVM \n",
    "   \n",
    "train_normal = X_train[y_train==0]\n",
    "train_outliers = X_train[y_train==1] \n",
    "\n",
    "\n",
    "svm = OneClassSVM(kernel='rbf',nu=0.00095, gamma=0.002,verbose=True) \n",
    "svm.fit(train_normal)\n",
    "\n",
    "y_pred = svm.predict(X_test) \n",
    "y_pred[y_pred == 1] = 0\n",
    "y_pred[y_pred == -1] = 1\n",
    "\n",
    "print(accuracy_score(y_test,y_pred))\n",
    "print(classification_report(y_test,y_pred))\n",
    "print(confusion_matrix(y_test, y_pred))"
   ]
  },
  {
   "cell_type": "code",
   "execution_count": null,
   "metadata": {},
   "outputs": [],
   "source": []
  }
 ],
 "metadata": {
  "kernelspec": {
   "display_name": "Python 3 (ipykernel)",
   "language": "python",
   "name": "python3"
  },
  "language_info": {
   "codemirror_mode": {
    "name": "ipython",
    "version": 3
   },
   "file_extension": ".py",
   "mimetype": "text/x-python",
   "name": "python",
   "nbconvert_exporter": "python",
   "pygments_lexer": "ipython3",
   "version": "3.9.12"
  }
 },
 "nbformat": 4,
 "nbformat_minor": 4
}
