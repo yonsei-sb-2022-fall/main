{
 "cells": [
  {
   "cell_type": "markdown",
   "metadata": {},
   "source": [
    "# BIG DATA ANALYSIS : 딥러닝을 이용한 주시가격 예측\n",
    "## RNN을 이용한 주시가격 예측\n",
    "---"
   ]
  },
  {
   "cell_type": "code",
   "execution_count": null,
   "metadata": {},
   "outputs": [],
   "source": [
    "import sys\n",
    "#!{sys.executable} -m pip install tensorflow\n"
   ]
  },
  {
   "cell_type": "code",
   "execution_count": null,
   "metadata": {},
   "outputs": [],
   "source": [
    "#관련 라이브러리 임포트\n",
    "import pandas as pd\n",
    "from sklearn.preprocessing import MinMaxScaler\n",
    "import numpy as np\n",
    "from sklearn import utils\n",
    "from tensorflow.keras.layers import Input\n",
    "from tensorflow.keras.layers import LSTM\n",
    "from tensorflow.keras.layers import Dense\n",
    "from tensorflow.keras.models import Model\n",
    "from tensorflow.keras.optimizers import Adam\n",
    "from tensorflow.keras.callbacks import ModelCheckpoint\n",
    "import tensorflow as tf\n",
    "import pandas_datareader.data as web\n",
    "\n",
    "tf.random.set_seed(777) "
   ]
  },
  {
   "cell_type": "markdown",
   "metadata": {},
   "source": [
    "## 1. 주식 데이터 로드"
   ]
  },
  {
   "cell_type": "code",
   "execution_count": null,
   "metadata": {
    "scrolled": false
   },
   "outputs": [],
   "source": [
    "df = web.DataReader(\"005930\", \"naver\", \"2018-01-01\", \"2022-10-07\")\n",
    "df = df.astype(int)"
   ]
  },
  {
   "cell_type": "markdown",
   "metadata": {},
   "source": [
    "## 2. EDA"
   ]
  },
  {
   "cell_type": "code",
   "execution_count": null,
   "metadata": {},
   "outputs": [],
   "source": [
    "df.head()"
   ]
  },
  {
   "cell_type": "code",
   "execution_count": null,
   "metadata": {
    "scrolled": true
   },
   "outputs": [],
   "source": [
    "df.info()"
   ]
  },
  {
   "cell_type": "code",
   "execution_count": null,
   "metadata": {},
   "outputs": [],
   "source": [
    "df.describe()"
   ]
  },
  {
   "cell_type": "code",
   "execution_count": null,
   "metadata": {},
   "outputs": [],
   "source": [
    "df.tail(n=7)"
   ]
  },
  {
   "cell_type": "markdown",
   "metadata": {},
   "source": [
    "## 3. 전처리"
   ]
  },
  {
   "cell_type": "code",
   "execution_count": null,
   "metadata": {},
   "outputs": [],
   "source": [
    "df = df[['Open', 'High', 'Low', 'Close']]\n",
    "\n",
    "data = df.to_numpy()\n",
    "split = len(data) - int(len(data)*0.3)\n",
    "print(split)\n",
    "print(df.iloc[split])\n",
    "train = data[:split]\n",
    "test = data[split:]"
   ]
  },
  {
   "cell_type": "code",
   "execution_count": null,
   "metadata": {},
   "outputs": [],
   "source": [
    "test[-1]"
   ]
  },
  {
   "cell_type": "code",
   "execution_count": null,
   "metadata": {},
   "outputs": [],
   "source": [
    "import matplotlib.pyplot as plt\n",
    "# 종가 기준으로 값 확인\n",
    "plt.plot(train[:,-1])"
   ]
  },
  {
   "cell_type": "code",
   "execution_count": null,
   "metadata": {},
   "outputs": [],
   "source": [
    "plt.plot(test[:,-1])"
   ]
  },
  {
   "cell_type": "code",
   "execution_count": null,
   "metadata": {
    "scrolled": true
   },
   "outputs": [],
   "source": [
    "\n",
    "#데이터를 스케일링 해서 학습 효과 향상\n",
    "transformer = MinMaxScaler()\n",
    "train = transformer.fit_transform(train)\n",
    "test = transformer.transform(test)\n",
    "\n",
    "sequence_length = 5\n",
    "window_length = sequence_length + 1\n",
    "\n",
    "x_train = []\n",
    "y_train = []\n",
    "for i in range(0, len(train) - window_length + 1):\n",
    "    window = train[i:i + window_length, :]\n",
    "    x_train.append(window[:-1, :])\n",
    "    y_train.append(window[-1, [-1]])\n",
    "x_train = np.array(x_train)\n",
    "y_train = np.array(y_train)\n",
    "\n",
    "x_test = []\n",
    "y_test = []\n",
    "for i in range(0, len(test) - window_length + 1):\n",
    "    window = test[i:i + window_length, :]\n",
    "    x_test.append(window[:-1, :])\n",
    "    y_test.append(window[-1, [-1]])\n",
    "x_test = np.array(x_test)\n",
    "y_test = np.array(y_test)\n",
    "\n",
    "\n",
    "print(x_train.shape)\n",
    "print(y_train.shape)\n"
   ]
  },
  {
   "cell_type": "code",
   "execution_count": null,
   "metadata": {},
   "outputs": [],
   "source": [
    "df.tail(n=10)"
   ]
  },
  {
   "cell_type": "code",
   "execution_count": null,
   "metadata": {},
   "outputs": [],
   "source": [
    "x_test[-1]"
   ]
  },
  {
   "cell_type": "code",
   "execution_count": null,
   "metadata": {},
   "outputs": [],
   "source": [
    "transformer.inverse_transform([[1.16122004, 1.16239316, 1.17353579, 1.20399113]])"
   ]
  },
  {
   "cell_type": "markdown",
   "metadata": {},
   "source": [
    "## 4. 모델 학습 및 검증"
   ]
  },
  {
   "cell_type": "code",
   "execution_count": null,
   "metadata": {},
   "outputs": [],
   "source": [
    "##########모델 학습\n",
    "##########모델 검증\n",
    "\n",
    "input = Input(shape=(sequence_length, 4))\n",
    "net = LSTM(units=256)(input) \n",
    "net = Dense(units=256, activation='relu')(net)\n",
    "net = Dense(units=1)(net)\n",
    "model = Model(inputs=input, outputs=net)\n",
    "\n",
    "model.summary()\n",
    "\n",
    "model.compile(loss='mean_squared_error', optimizer=Adam(lr=0.01))\n",
    "model.fit(x_train, y_train, epochs=50, validation_data=(x_test, y_test)) \n"
   ]
  },
  {
   "cell_type": "markdown",
   "metadata": {},
   "source": [
    "## 5. 결과확인"
   ]
  },
  {
   "cell_type": "code",
   "execution_count": null,
   "metadata": {},
   "outputs": [],
   "source": [
    "x_test.shape"
   ]
  },
  {
   "cell_type": "code",
   "execution_count": null,
   "metadata": {},
   "outputs": [],
   "source": [
    "##########모델 예측\n",
    "\n",
    "y_test_inverse = []\n",
    "for y in y_test:\n",
    "    inverse = transformer.inverse_transform([[0, 0, 0, y[0]]])\n",
    "    y_inverse = inverse.flatten()[-1]\n",
    "    y_test_inverse.append(y_inverse)\n",
    "\n",
    "y_predict = model.predict(x_test)\n",
    "y_predict_inverse = []\n",
    "for y in y_predict:\n",
    "    inverse = transformer.inverse_transform([[0, 0, 0, y[0]]])\n",
    "    y_inverse = inverse.flatten()[-1]\n",
    "    y_predict_inverse.append(y_inverse)\n",
    "\n",
    "import matplotlib.pyplot as plt\n",
    "plt.figure(figsize=(20,10))\n",
    "plt.plot(y_test_inverse, c=\"r\", label=\"true\")\n",
    "plt.plot(y_predict_inverse, c=\"b\", label=\"pred\")\n",
    "plt.xlabel('Time Period')\n",
    "plt.ylabel('Close')\n",
    "\n",
    "plt.legend()\n",
    "plt.show()\n"
   ]
  },
  {
   "cell_type": "markdown",
   "metadata": {},
   "source": [
    "## 7. 다음 주의 주가는 과연!!"
   ]
  },
  {
   "cell_type": "code",
   "execution_count": null,
   "metadata": {},
   "outputs": [],
   "source": [
    "df = web.DataReader(\"005930\", \"naver\", \"2022-10-07\", \"2022-10-14\")\n",
    "df"
   ]
  },
  {
   "cell_type": "code",
   "execution_count": null,
   "metadata": {},
   "outputs": [],
   "source": [
    "df = df[['Open', 'High', 'Low', 'Close']]\n",
    "\n",
    "\n",
    "x_test = df.to_numpy()\n",
    "\n",
    "x_test = transformer.transform(x_test)\n",
    "x_test = np.expand_dims(x_test, 0)\n",
    "print(x_test)\n",
    "\n",
    "y_predict = model.predict(x_test)\n",
    "print(y_predict)\n",
    "# print(y_predict.flatten()[0])\n",
    "\n",
    "inverse = transformer.inverse_transform([[0, 0, 0, y_predict.flatten()[0]]])\n",
    "print(inverse)\n",
    "print(\"예상가격:\",inverse.flatten()[-1])"
   ]
  },
  {
   "cell_type": "code",
   "execution_count": null,
   "metadata": {},
   "outputs": [],
   "source": [
    "#Q 여러분들이 관심 갖고 계신 주식으로 한번 해볼까요?"
   ]
  },
  {
   "cell_type": "code",
   "execution_count": null,
   "metadata": {},
   "outputs": [],
   "source": []
  }
 ],
 "metadata": {
  "kernelspec": {
   "display_name": "Python 3 (ipykernel)",
   "language": "python",
   "name": "python3"
  },
  "language_info": {
   "codemirror_mode": {
    "name": "ipython",
    "version": 3
   },
   "file_extension": ".py",
   "mimetype": "text/x-python",
   "name": "python",
   "nbconvert_exporter": "python",
   "pygments_lexer": "ipython3",
   "version": "3.9.12"
  }
 },
 "nbformat": 4,
 "nbformat_minor": 4
}
