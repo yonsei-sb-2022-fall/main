{
 "cells": [
  {
   "cell_type": "markdown",
   "id": "db70c0bb",
   "metadata": {},
   "source": [
    "# 빅데이터 분석프로그래밍 2 - Week 06\n",
    "Streamlit을 이용한 웹 개발의 기본적인 부분에 대해 다룹니다\n",
    "____"
   ]
  },
  {
   "cell_type": "code",
   "execution_count": null,
   "id": "29ab3da4",
   "metadata": {},
   "outputs": [],
   "source": [
    "import sys\n",
    "!{sys.executable} -m pip install streamlit\n",
    "!pip install streamlit"
   ]
  },
  {
   "cell_type": "markdown",
   "id": "a3fada7c",
   "metadata": {},
   "source": [
    "## 기본 실행"
   ]
  },
  {
   "cell_type": "code",
   "execution_count": null,
   "id": "6880129e",
   "metadata": {},
   "outputs": [],
   "source": [
    "%%writefile app.py\n",
    "import streamlit as st\n",
    "\n",
    "st.title(\"hello\")"
   ]
  },
  {
   "cell_type": "code",
   "execution_count": null,
   "id": "a72d176a",
   "metadata": {},
   "outputs": [],
   "source": [
    "!{sys.executable} -m streamlit run app.py\n",
    "#또는\n",
    "# !streamlit run app.py"
   ]
  },
  {
   "cell_type": "markdown",
   "id": "f02b37cd",
   "metadata": {},
   "source": [
    "## 입력값 받기"
   ]
  },
  {
   "cell_type": "code",
   "execution_count": null,
   "id": "c4834426",
   "metadata": {},
   "outputs": [],
   "source": [
    "%%writefile app.py\n",
    "import streamlit as st\n",
    "\n",
    "title = st.text_input('Movie title', '탑건')\n",
    "st.write('The current movie title is', title)"
   ]
  },
  {
   "cell_type": "code",
   "execution_count": null,
   "id": "2edbe40e",
   "metadata": {},
   "outputs": [],
   "source": [
    "!{sys.executable} -m streamlit run app.py\n",
    "#또는\n",
    "# !streamlit run app.py"
   ]
  },
  {
   "cell_type": "markdown",
   "id": "c476c9b4",
   "metadata": {},
   "source": [
    "## 긴 글 받기"
   ]
  },
  {
   "cell_type": "code",
   "execution_count": null,
   "id": "7a0f4dc8",
   "metadata": {},
   "outputs": [],
   "source": [
    "%%writefile app.py\n",
    "import streamlit as st\n",
    "\n",
    "txt = st.text_area('Text to analyze', \"\"\"기계 학습(機械學習) 또는 머신 러닝(영어: machine learning)은 경험을 통해 자동으로 개선하는 컴퓨터 알고리즘의 연구이다.[1] 인공지능의 한 분야로 간주된다. 컴퓨터가 학습할 수 있도록 하는 알고리즘과 기술을 개발하는 분야이다. 가령, 기계 학습을 통해서 수신한 이메일이 스팸인지 아닌지를 구분할 수 있도록 훈련할 수 있다.\"\"\")\n",
    "\n",
    "#TODO\n",
    "st.write('글의 길이:', len(txt))\n",
    "st.write('단어의 수:', len(txt))\n",
    "st.write('문장의 수:', len(txt))\n"
   ]
  },
  {
   "cell_type": "code",
   "execution_count": null,
   "id": "fbb1b995",
   "metadata": {},
   "outputs": [],
   "source": [
    "!{sys.executable} -m streamlit run app.py\n",
    "#또는\n",
    "# !streamlit run app.py"
   ]
  },
  {
   "cell_type": "markdown",
   "id": "79cdeb06",
   "metadata": {},
   "source": [
    "## 이미지 업로드 받기"
   ]
  },
  {
   "cell_type": "code",
   "execution_count": null,
   "id": "1d0329ff",
   "metadata": {},
   "outputs": [],
   "source": [
    "%%writefile app.py\n",
    "\n",
    "import streamlit as st\n",
    "uploaded_file = st.file_uploader(\"Choose a file\")\n",
    "if uploaded_file is not None:\n",
    "    # To read file as bytes:\n",
    "    bytes_data = uploaded_file.getvalue()\n",
    "    st.image(bytes_data)\n"
   ]
  },
  {
   "cell_type": "code",
   "execution_count": null,
   "id": "239300d0",
   "metadata": {},
   "outputs": [],
   "source": [
    "!{sys.executable} -m streamlit run app.py\n",
    "#또는\n",
    "# !streamlit run app.py"
   ]
  },
  {
   "cell_type": "code",
   "execution_count": null,
   "id": "c02afa2f",
   "metadata": {},
   "outputs": [],
   "source": []
  }
 ],
 "metadata": {
  "kernelspec": {
   "display_name": "Python 3 (ipykernel)",
   "language": "python",
   "name": "python3"
  },
  "language_info": {
   "codemirror_mode": {
    "name": "ipython",
    "version": 3
   },
   "file_extension": ".py",
   "mimetype": "text/x-python",
   "name": "python",
   "nbconvert_exporter": "python",
   "pygments_lexer": "ipython3",
   "version": "3.9.12"
  }
 },
 "nbformat": 4,
 "nbformat_minor": 5
}
