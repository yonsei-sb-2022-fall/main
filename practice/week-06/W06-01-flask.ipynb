{
 "cells": [
  {
   "cell_type": "markdown",
   "id": "0af41c4f",
   "metadata": {},
   "source": [
    "# 빅데이터 분석프로그래밍 2 - Week 06\n",
    "Flask를 활용한 API 개발의 기본적인 부분에 대해 다룹니다\n",
    "____"
   ]
  },
  {
   "cell_type": "markdown",
   "id": "b504eca3",
   "metadata": {},
   "source": [
    "## Flask 설치"
   ]
  },
  {
   "cell_type": "code",
   "execution_count": null,
   "id": "70c7d23a",
   "metadata": {},
   "outputs": [],
   "source": [
    "import sys\n",
    "!{sys.executable} -m pip install flask\n",
    "!pip install flask"
   ]
  },
  {
   "cell_type": "markdown",
   "id": "8e2820eb",
   "metadata": {},
   "source": [
    "## 기본 코딩"
   ]
  },
  {
   "cell_type": "code",
   "execution_count": null,
   "id": "8d0c6610",
   "metadata": {},
   "outputs": [],
   "source": [
    "from flask import Flask\n",
    "\n",
    "app = Flask(__name__)\n",
    "\n",
    "## route 함수 안에 있는 부분에서 API 경로를 설정 할 수 있습니다.\n",
    "@app.route(\"/\")\n",
    "def hello_world():\n",
    "    return \"<p>Hello, World!</p>\"\n",
    "\n",
    "##주소 뒤에 /test path를 붙여서 Hello, Test 리턴하기\n",
    "## Code goes here!!\n",
    "\n",
    "if __name__ == \"__main__\":\n",
    "    app.run()"
   ]
  },
  {
   "cell_type": "markdown",
   "id": "c7c6fed7",
   "metadata": {},
   "source": [
    "## GET 방식으로 값 넘기기"
   ]
  },
  {
   "cell_type": "code",
   "execution_count": null,
   "id": "7f4cc5a8",
   "metadata": {},
   "outputs": [],
   "source": [
    "from flask import Flask, request\n",
    "\n",
    "app = Flask(__name__)\n",
    "\n",
    "\n",
    "@app.route(\"/\",methods = ['GET'])\n",
    "def hello_world():\n",
    "    usename = request.args.get('username')\n",
    "\n",
    "    return f\"<p>Hello, {usename}!</p>\"\n",
    "\n",
    "if __name__ == \"__main__\":\n",
    "    app.run()"
   ]
  },
  {
   "cell_type": "code",
   "execution_count": null,
   "id": "27ff13b8",
   "metadata": {},
   "outputs": [],
   "source": [
    "from flask import Flask, request\n",
    "\n",
    "app = Flask(__name__)\n",
    "\n",
    "@app.route(\"/\",methods = ['GET'])\n",
    "def hello_world():\n",
    "    number = request.args.get('number')\n",
    "    if not number:\n",
    "        number = 0\n",
    "    return f\"<p>2 x {number}={2*float(number)}</p>\"\n",
    "\n",
    "if __name__ == \"__main__\":\n",
    "    app.run()"
   ]
  },
  {
   "cell_type": "code",
   "execution_count": null,
   "id": "e8b78c85",
   "metadata": {},
   "outputs": [],
   "source": []
  }
 ],
 "metadata": {
  "kernelspec": {
   "display_name": "Python 3 (ipykernel)",
   "language": "python",
   "name": "python3"
  },
  "language_info": {
   "codemirror_mode": {
    "name": "ipython",
    "version": 3
   },
   "file_extension": ".py",
   "mimetype": "text/x-python",
   "name": "python",
   "nbconvert_exporter": "python",
   "pygments_lexer": "ipython3",
   "version": "3.9.12"
  }
 },
 "nbformat": 4,
 "nbformat_minor": 5
}
